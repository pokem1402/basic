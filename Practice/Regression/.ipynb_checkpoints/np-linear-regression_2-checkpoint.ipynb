{
 "cells": [
  {
   "cell_type": "markdown",
   "metadata": {},
   "source": [
    "# Linear Regression with complex toy data\n",
    "##### <div style='text-align:right'>made by Wonbin Kim</div>"
   ]
  },
  {
   "cell_type": "code",
   "execution_count": null,
   "metadata": {},
   "outputs": [],
   "source": [
    "import numpy as np\n",
    "from example import plotting, example3, example4\n",
    "%matplotlib inline\n",
    "\n",
    "training_data_ratio = 0.7"
   ]
  },
  {
   "cell_type": "markdown",
   "metadata": {},
   "source": [
    "# Dataset 3. More Complex Toy data"
   ]
  },
  {
   "cell_type": "markdown",
   "metadata": {},
   "source": [
    "## Example 3"
   ]
  },
  {
   "cell_type": "code",
   "execution_count": null,
   "metadata": {},
   "outputs": [],
   "source": [
    "train_X, train_Y, test_X, test_Y, whole_X, whole_Y = example3(True)\n",
    "plotting([train_X, test_X], [train_Y, test_Y], label=['train', 'test'])"
   ]
  },
  {
   "cell_type": "markdown",
   "metadata": {},
   "source": [
    "## Example 4"
   ]
  },
  {
   "cell_type": "code",
   "execution_count": null,
   "metadata": {},
   "outputs": [],
   "source": [
    "train_X, train_Y, test_X, test_Y, whole_X, whole_Y = example4(False)\n",
    "plotting([train_X, test_X], [train_Y, test_Y], label=['train', 'test'])"
   ]
  },
  {
   "cell_type": "markdown",
   "metadata": {},
   "source": [
    "# 1. Linear Squares Method\n",
    "\n",
    "### <center>\\\\(\\mathcal{J}_{LS}(\\mathbf{w})=\\frac{1}{2N}\\sum_{n=1}^{N}\\left(y_n-\\mathbf{w}^T\\phi(x_n)\\right)^2 = \\frac{1}{2N}||y-\\phi^T\\mathbf{w}||^2_2\\\\)</center> <br>\n",
    "### Find <center> \\\\( \\hat{\\mathbf{w}}_{LS} = \\arg \\min\\limits_{\\mathbf{W}} \\frac{1}{2}||y-\\phi^T\\mathbf{w}||^2_2\\\\) </center>\n",
    "\n",
    "where $\\phi(x) \\in \\mathbb{R}^{d\\times N}$ , $y \\in \\mathbb{R}^{k \\times N}$, and $\\mathbf{w} \\in \\mathbb{R}^{k\\times d}$. N, d, k denote the number of instances, the dimensionality of covariate X, and the dimentionality of response Y, respectively.\n",
    "\n",
    "### Caution!\n",
    "\n",
    "For implementational simplicity, X is transposed in practice. i.e. $ x \\in \\mathbb{R}^{N\\times D}$, a row represents a instance."
   ]
  },
  {
   "cell_type": "code",
   "execution_count": null,
   "metadata": {},
   "outputs": [],
   "source": [
    "# Objective function\n",
    "def ls(x, y, w, b = 0.):\n",
    "    ###\n",
    "    pass\n",
    "    ###\n",
    "    return loss"
   ]
  },
  {
   "cell_type": "code",
   "execution_count": null,
   "metadata": {},
   "outputs": [],
   "source": [
    "def find_w(x, y):\n",
    "    ###\n",
    "    pass\n",
    "    ###\n",
    "    return w_ls"
   ]
  },
  {
   "cell_type": "markdown",
   "metadata": {},
   "source": [
    "## (1) Linear Squared Method - identity basis function\n",
    "\n",
    "### <center> \\\\( \\phi(\\mathbf{x}) = \\mathbf{x}\\\\) </center>"
   ]
  },
  {
   "cell_type": "code",
   "execution_count": null,
   "metadata": {},
   "outputs": [],
   "source": [
    "train_X, train_Y, test_X, test_Y, whole_X, whole_Y = example3(True)"
   ]
  },
  {
   "cell_type": "code",
   "execution_count": null,
   "metadata": {},
   "outputs": [],
   "source": [
    "pass"
   ]
  },
  {
   "cell_type": "markdown",
   "metadata": {},
   "source": [
    "### Result : Loss"
   ]
  },
  {
   "cell_type": "code",
   "execution_count": null,
   "metadata": {},
   "outputs": [],
   "source": [
    "pass"
   ]
  },
  {
   "cell_type": "markdown",
   "metadata": {},
   "source": [
    "### Plot"
   ]
  },
  {
   "cell_type": "code",
   "execution_count": null,
   "metadata": {},
   "outputs": [],
   "source": [
    "plotting([train_X, test_X, whole_X],\n",
    "         [train_Y, test_Y, pred_y], label=['train', 'test', 'linear'])"
   ]
  },
  {
   "cell_type": "code",
   "execution_count": null,
   "metadata": {},
   "outputs": [],
   "source": [
    "train_X, train_Y, test_X, test_Y, whole_X, whole_Y = example4(True)"
   ]
  },
  {
   "cell_type": "code",
   "execution_count": null,
   "metadata": {},
   "outputs": [],
   "source": [
    "pass"
   ]
  },
  {
   "cell_type": "markdown",
   "metadata": {},
   "source": [
    "### Result"
   ]
  },
  {
   "cell_type": "code",
   "execution_count": null,
   "metadata": {},
   "outputs": [],
   "source": [
    "pass"
   ]
  },
  {
   "cell_type": "markdown",
   "metadata": {},
   "source": [
    "### Plot"
   ]
  },
  {
   "cell_type": "code",
   "execution_count": null,
   "metadata": {},
   "outputs": [],
   "source": [
    "plotting([train_X, test_X, whole_X],\n",
    "         [train_Y, test_Y, pred_y], label=['train', 'test', 'linear'])"
   ]
  },
  {
   "cell_type": "markdown",
   "metadata": {},
   "source": [
    "## (2) Polynomial basis function\n",
    "\n",
    "### <center> \\\\( \\phi_j(x) = x^j\\\\) </center>"
   ]
  },
  {
   "cell_type": "code",
   "execution_count": null,
   "metadata": {},
   "outputs": [],
   "source": [
    "train_X, train_Y, test_X, test_Y, whole_X, whole_Y = example3(False)"
   ]
  },
  {
   "cell_type": "markdown",
   "metadata": {},
   "source": [
    "## Sub-work (1)\n",
    "### Construct a data vector X with powers of x, that is, \n",
    "### <center>\\\\(\\phi(x) = [x^m, x^{m-1}, ... , x^1, 1]\\\\)</center>"
   ]
  },
  {
   "cell_type": "code",
   "execution_count": null,
   "metadata": {},
   "outputs": [],
   "source": [
    "def powers(X, degree=1):\n",
    "    pass"
   ]
  },
  {
   "cell_type": "code",
   "execution_count": null,
   "metadata": {},
   "outputs": [],
   "source": [
    "new_train_X = powers(train_X, 2)\n",
    "new_test_X = powers(test_X, 2)\n",
    "new_whole_X = powers(whole_X, 2)"
   ]
  },
  {
   "cell_type": "code",
   "execution_count": null,
   "metadata": {},
   "outputs": [],
   "source": [
    "pass"
   ]
  },
  {
   "cell_type": "markdown",
   "metadata": {},
   "source": [
    "### Result : Loss"
   ]
  },
  {
   "cell_type": "code",
   "execution_count": null,
   "metadata": {},
   "outputs": [],
   "source": [
    "pass"
   ]
  },
  {
   "cell_type": "markdown",
   "metadata": {},
   "source": [
    "### Plot"
   ]
  },
  {
   "cell_type": "code",
   "execution_count": null,
   "metadata": {},
   "outputs": [],
   "source": [
    "plotting([train_X, test_X, whole_X],\n",
    "         [train_Y, test_Y, pred_y], label=['train', 'test', 'polynomial'])"
   ]
  },
  {
   "cell_type": "markdown",
   "metadata": {},
   "source": [
    "### Comparing experiments"
   ]
  },
  {
   "cell_type": "code",
   "execution_count": null,
   "metadata": {},
   "outputs": [],
   "source": [
    "def compare(train_x, train_y, test_x, test_y, whole_x, degree = 10):\n",
    "    exp = []\n",
    "    for i in range(1, degree+1, 1):\n",
    "        t_X_i = powers(train_x, i)\n",
    "        te_X_i = powers(test_x, i)\n",
    "        w_X_i = powers(whole_x, i)\n",
    "        w_ls = find_w(t_X_i, train_y)\n",
    "        pred_y = np.dot(w_X_i, w_ls)\n",
    "        train_loss = ls(t_X_i, train_y, w_ls)\n",
    "        test_loss = ls(te_X_i, test_y, w_ls)\n",
    "        exp.append({'pred_y':pred_y,\n",
    "                    'whole':w_X_i, \n",
    "                    'train_loss':train_loss,\n",
    "                    'test_loss':test_loss})\n",
    "    for i in range(degree):\n",
    "        print(\"Degree : [{}], train loss : [{:.3f}], test_loss : [{:.3f}]\".format(i+1,\n",
    "            exp[i]['train_loss'], exp[i]['test_loss']))    \n",
    "    plotting([train_x, test_x]+ degree*[whole_x],\n",
    "         [train_y, test_y]+[exp[i]['pred_y'] for i in range(degree)],\n",
    "         label=['train', 'test','linear']+['{}-polynomial'.format(i+2) for i in range(degree-1)])"
   ]
  },
  {
   "cell_type": "code",
   "execution_count": null,
   "metadata": {},
   "outputs": [],
   "source": [
    "train_X, train_Y, test_X, test_Y, whole_X, whole_Y = example3(False)\n",
    "compare(train_X, train_Y, test_X, test_Y, whole_X)"
   ]
  },
  {
   "cell_type": "code",
   "execution_count": null,
   "metadata": {},
   "outputs": [],
   "source": [
    "train_X, train_Y, test_X, test_Y, whole_X, whole_Y = example4(False)\n",
    "compare(train_X, train_Y, test_X, test_Y, whole_X)"
   ]
  }
 ],
 "metadata": {
  "kernelspec": {
   "display_name": "Python 3",
   "language": "python",
   "name": "python3"
  },
  "language_info": {
   "codemirror_mode": {
    "name": "ipython",
    "version": 3
   },
   "file_extension": ".py",
   "mimetype": "text/x-python",
   "name": "python",
   "nbconvert_exporter": "python",
   "pygments_lexer": "ipython3",
   "version": "3.6.6"
  }
 },
 "nbformat": 4,
 "nbformat_minor": 2
}
