{
 "cells": [
  {
   "cell_type": "markdown",
   "metadata": {},
   "source": [
    "# Linear Regression with real data\n",
    "##### <div style='text-align:right'>made by Wonbin Kim</div>"
   ]
  },
  {
   "cell_type": "code",
   "execution_count": null,
   "metadata": {},
   "outputs": [],
   "source": [
    "import numpy as np\n",
    "from os import makedirs, path\n",
    "from util import printProgress, file_download, handling_xlsx, _shuffle\n",
    "\n",
    "data_path = './datasets'\n",
    "if not path.exists(data_path):\n",
    "    makedirs(data_path)"
   ]
  },
  {
   "cell_type": "markdown",
   "metadata": {},
   "source": [
    "# Dataset 2. Energy-efficiency Data set\n",
    "\n",
    "https://archive.ics.uci.edu/ml/datasets/energy+efficiency"
   ]
  },
  {
   "cell_type": "code",
   "execution_count": null,
   "metadata": {},
   "outputs": [],
   "source": [
    "data1_url = 'https://archive.ics.uci.edu/ml/machine-learning-databases/00242/ENB2012_data.xlsx'"
   ]
  },
  {
   "cell_type": "code",
   "execution_count": null,
   "metadata": {},
   "outputs": [],
   "source": [
    "file_path = path.join(data_path, 'ENB2012_data.xlsx')\n",
    "# file_path = file_download(data1_url, data_path)"
   ]
  },
  {
   "cell_type": "code",
   "execution_count": null,
   "metadata": {},
   "outputs": [],
   "source": [
    "raw = handling_xlsx(file_path, True)"
   ]
  },
  {
   "cell_type": "code",
   "execution_count": null,
   "metadata": {},
   "outputs": [],
   "source": [
    "print(raw[0].keys())"
   ]
  },
  {
   "cell_type": "markdown",
   "metadata": {},
   "source": [
    "## Sub-work (1)\n",
    "### Splitting raw data into Covariate X and Response Y"
   ]
  },
  {
   "cell_type": "code",
   "execution_count": null,
   "metadata": {},
   "outputs": [],
   "source": [
    "# Implement 1\n",
    "keys = list(raw[0].keys())\n",
    "raw_data = np.array([[raw[i][k] for k in keys] for i in range(len(raw))]).astype(float)\n",
    "X = raw_data[:, :8]\n",
    "Y = raw_data[:, 8:]"
   ]
  },
  {
   "cell_type": "markdown",
   "metadata": {},
   "source": [
    "## Sub-work (2)\n",
    "### adding 1 vector to data for representing bias\n",
    "\n",
    "### <center>\\\\(y = \\mathbf{w}^T\\phi(x)+b = [w_1, w_2, ... , w_d] \\cdot \\left[\\begin{matrix}{\\phi_1(x) \\\\ \\phi_2(x) \\\\ ... \\\\ \\phi_d(x)}\\end{matrix}\\right] + b \\\\)</center>\n",
    "\n",
    "### <center>\\\\(= [w_1, w_2, ... , w_d, b] \\cdot \\left[\\begin{matrix}{\\phi_1(x) \\\\ \\phi_2(x) \\\\ ... \\\\ \\phi_d(x) \\\\ \"1\"}\\end{matrix}\\right]\\\\)</center>"
   ]
  },
  {
   "cell_type": "code",
   "execution_count": null,
   "metadata": {},
   "outputs": [],
   "source": [
    "def add_bias_term(X):\n",
    "    ###\n",
    "    pass\n",
    "    ###\n",
    "    return new_X"
   ]
  },
  {
   "cell_type": "markdown",
   "metadata": {},
   "source": [
    "## Sub-work (3)\n",
    "### For estimation, Seperate X and Y into training set and test set.\n",
    "### Train : Test  = 0.7 : 0.3"
   ]
  },
  {
   "cell_type": "code",
   "execution_count": null,
   "metadata": {},
   "outputs": [],
   "source": [
    "whole_X, whole_Y = _shuffle(X,Y)\n",
    "no_data = len(whole_X)\n",
    "no_training = int(no_data*0.7)\n",
    "train_X, train_Y = whole_X[:no_training], whole_Y[:no_training]\n",
    "test_X, test_Y = whole_X[no_training:], whole_Y[no_training:]\n",
    "\n",
    "print(train_X.shape, test_X.shape, whole_X.shape)"
   ]
  },
  {
   "cell_type": "markdown",
   "metadata": {},
   "source": [
    "# 1. Linear Squares Method\n",
    "\n",
    "### <center>\\\\(\\mathcal{J}_{LS}(w)=\\frac{1}{2N}\\sum_{n=1}^{N}\\left(y_n-\\mathbf{w}^T\\phi(x_n)\\right)^2 = \\frac{1}{2N}||y-\\phi^T\\mathbf{w}||^2_2\\\\)</center> <br>\n",
    "### Find <center> \\\\( \\hat{\\mathbf{w}}_{LS} = \\arg \\min\\limits_{\\mathbf{W}} \\frac{1}{2}||y-\\phi^T\\mathbf{w}||^2_2\\\\) </center>\n",
    "\n",
    "where $\\phi(x) \\in \\mathbb{R}^{d\\times N}$ , $y \\in \\mathbb{R}^{k \\times N}$, and $\\mathbf{w} \\in \\mathbb{R}^{k\\times d}$. N, d, k denote the number of instances, the dimensionality of covariate X, and the dimentionality of response Y, respectively.\n",
    "\n",
    "### Caution!\n",
    "\n",
    "For implementational simplicity, X is transposed in practice. i.e. $ x \\in \\mathbb{R}^{N\\times D}$, a row represents a instance."
   ]
  },
  {
   "cell_type": "code",
   "execution_count": null,
   "metadata": {},
   "outputs": [],
   "source": [
    "# Objective function\n",
    "def ls(x, y, w, b = 0., l=0.):\n",
    "    ###\n",
    "    pass\n",
    "    ###\n",
    "    return loss"
   ]
  },
  {
   "cell_type": "code",
   "execution_count": null,
   "metadata": {},
   "outputs": [],
   "source": [
    "def find_w(x, y, l = 0.):\n",
    "    ###\n",
    "    pass\n",
    "    ###\n",
    "    return w_ls"
   ]
  },
  {
   "cell_type": "markdown",
   "metadata": {},
   "source": [
    "## Objective function & Generalization\n",
    "\n",
    "<img src='image/pic11.png'>"
   ]
  },
  {
   "cell_type": "markdown",
   "metadata": {},
   "source": [
    "## (1) Linear Squared Method - identity basis function\n",
    "\n",
    "### <center> \\\\( \\phi(\\mathbf{x}) = \\mathbf{x}\\\\) </center>"
   ]
  },
  {
   "cell_type": "code",
   "execution_count": null,
   "metadata": {},
   "outputs": [],
   "source": [
    "pass"
   ]
  },
  {
   "cell_type": "markdown",
   "metadata": {},
   "source": [
    "### Result : Loss"
   ]
  },
  {
   "cell_type": "code",
   "execution_count": null,
   "metadata": {},
   "outputs": [],
   "source": [
    "pass"
   ]
  },
  {
   "cell_type": "markdown",
   "metadata": {},
   "source": [
    "## By sklearn\n",
    "### <center> \\\\( \\phi(\\mathbf{x}) = \\mathbf{x}\\\\) </center>"
   ]
  },
  {
   "cell_type": "code",
   "execution_count": null,
   "metadata": {},
   "outputs": [],
   "source": [
    "from sklearn import linear_model as lm\n",
    "\n",
    "lr = lm.LinearRegression()\n",
    "lr.fit(train_X, train_Y)\n",
    "pred_y = lr.predict(whole_X)\n",
    "w_ls = lr.coef_\n",
    "b_ls = lr.intercept_"
   ]
  },
  {
   "cell_type": "markdown",
   "metadata": {},
   "source": [
    "### Result : Loss"
   ]
  },
  {
   "cell_type": "code",
   "execution_count": null,
   "metadata": {},
   "outputs": [],
   "source": [
    "pass"
   ]
  }
 ],
 "metadata": {
  "kernelspec": {
   "display_name": "Python 3",
   "language": "python",
   "name": "python3"
  },
  "language_info": {
   "codemirror_mode": {
    "name": "ipython",
    "version": 3
   },
   "file_extension": ".py",
   "mimetype": "text/x-python",
   "name": "python",
   "nbconvert_exporter": "python",
   "pygments_lexer": "ipython3",
   "version": "3.6.6"
  }
 },
 "nbformat": 4,
 "nbformat_minor": 2
}
