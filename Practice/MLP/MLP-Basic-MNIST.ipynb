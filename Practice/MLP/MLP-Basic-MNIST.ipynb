{
 "cells": [
  {
   "cell_type": "markdown",
   "metadata": {},
   "source": [
    "# MNIST"
   ]
  },
  {
   "cell_type": "markdown",
   "metadata": {},
   "source": [
    "### MNIST 데이터 받기"
   ]
  },
  {
   "cell_type": "code",
   "execution_count": 1,
   "metadata": {},
   "outputs": [
    {
     "name": "stdout",
     "output_type": "stream",
     "text": [
      ">> Downloading mnist.pkl.gz 100.0 %()\n",
      "('Successfully donloaded', 'mnist.pkl.gz', 16168813, 'bytes.')\n"
     ]
    }
   ],
   "source": [
    "import os\n",
    "import sys\n",
    "from six.moves import urllib\n",
    "import gzip\n",
    "import cPickle\n",
    "import numpy as np\n",
    "\n",
    "%matplotlib inline\n",
    "import matplotlib.pyplot as plt\n",
    "\n",
    "\n",
    "SOURCE_URL = 'http://www.iro.umontreal.ca/~lisa/deep/data/mnist/mnist.pkl.gz'\n",
    "FILENAME = SOURCE_URL.split('/')[-1]\n",
    "DATA_DIR = '../datasets'\n",
    "\n",
    "def maybe_download(data_dir):\n",
    "    filepath = os.path.join(data_dir, FILENAME)\n",
    "    if not os.path.exists(data_dir):\n",
    "        os.makedirs(data_dir)\n",
    "    if not os.path.isfile(filepath):\n",
    "        def _progress(count, block_size, total_size):\n",
    "            sys.stdout.write('\\r>> Downloading {} {:.1f} %'.format(\n",
    "                FILENAME, float(count * block_size) / float(total_size) * 100.0))\n",
    "            sys.stdout.flush()\n",
    "        filepath, _ = urllib.request.urlretrieve(SOURCE_URL, filepath, _progress)\n",
    "        print()\n",
    "        statinfo = os.stat(filepath)\n",
    "        print('Successfully donloaded', FILENAME, statinfo.st_size, 'bytes.')\n",
    "\n",
    "def load(data_dir, subset='train'):\n",
    "    maybe_download(data_dir)\n",
    "    filepath = os.path.join(data_dir, FILENAME)\n",
    "    \n",
    "    f = gzip.open(filepath, 'rb')\n",
    "    train_set, valid_set, test_set = cPickle.load(f)\n",
    "    f.close()\n",
    "    \n",
    "    if subset == 'train':\n",
    "        trainx, trainy = train_set\n",
    "        trainx = trainx.astype(np.float32).reshape(trainx.shape[0], 28, 28)\n",
    "        trainy = trainy.astype(np.uint8)\n",
    "        return trainx, trainy\n",
    "    elif subset == 'test':\n",
    "        testx, testy = test_set\n",
    "        testx = testx.astype(np.float32).reshape(testx.shape[0], 28, 28)\n",
    "        testy = testy.astype(np.uint8)\n",
    "        return testx, testy\n",
    "    elif subset== 'valid':\n",
    "        validx, validy = valid_set\n",
    "        validx = validx.astype(np.float32).reshape(validx.shape[0], 28, 28)\n",
    "        validy = validy.astype(np.uint8)\n",
    "        return validx, validy\n",
    "    else:\n",
    "        raise NotImplementedError('subset should be train or valid or test')\n",
    "\n",
    "# Load data\n",
    "train_data, train_label = load(DATA_DIR, 'train')\n",
    "valid_data, valid_label = load(DATA_DIR, 'valid')\n",
    "test_data, test_label = load(DATA_DIR, 'test')\n",
    "\n",
    "# concatenate train and valid data as train data\n",
    "train_data = np.concatenate((train_data, valid_data))\n",
    "train_label = np.concatenate((train_label, valid_label))"
   ]
  },
  {
   "cell_type": "markdown",
   "metadata": {},
   "source": [
    "### MNIST 데이터 확인하기"
   ]
  },
  {
   "cell_type": "code",
   "execution_count": 2,
   "metadata": {},
   "outputs": [
    {
     "name": "stdout",
     "output_type": "stream",
     "text": [
      "(60000, 28, 28)\n",
      "(60000,)\n",
      "(10000, 28, 28)\n",
      "(10000,)\n"
     ]
    }
   ],
   "source": [
    "# size of MNIST\n",
    "print train_data.shape\n",
    "print train_label.shape\n",
    "print test_data.shape\n",
    "print test_label.shape"
   ]
  },
  {
   "cell_type": "code",
   "execution_count": 3,
   "metadata": {},
   "outputs": [
    {
     "data": {
      "image/png": "[encoded data removed]",
      "text/plain": [
       "<matplotlib.figure.Figure at 0x7f22316b8290>"
      ]
     },
     "metadata": {},
     "output_type": "display_data"
    }
   ],
   "source": [
    "# show data\n",
    "_, (ax1, ax2) = plt.subplots(1, 2)\n",
    "sample_data = train_data[0]\n",
    "ax1.imshow(sample_data, cmap=plt.cm.Greys);\n",
    "ax2.hist(sample_data, bins=20, range=[0, 1]);"
   ]
  },
  {
   "cell_type": "code",
   "execution_count": 7,
   "metadata": {},
   "outputs": [
    {
     "name": "stdout",
     "output_type": "stream",
     "text": [
      "AxesImage(54,36;334.8x217.44)\n"
     ]
    },
    {
     "data": {
      "image/png": "[encoded data removed]",
      "text/plain": [
       "<matplotlib.figure.Figure at 0x7f224c106090>"
      ]
     },
     "metadata": {},
     "output_type": "display_data"
    }
   ],
   "source": [
    "print(plt.imshow(sample_data))"
   ]
  },
  {
   "cell_type": "markdown",
   "metadata": {},
   "source": [
    "### Data Pre-processing (데이터 전처리)"
   ]
  },
  {
   "cell_type": "code",
   "execution_count": null,
   "metadata": {
    "collapsed": true
   },
   "outputs": [],
   "source": [
    "import tensorflow as tf\n",
    "import random\n",
    "import shutil\n",
    "\n",
    "SUMMARY_DIR = './summary'\n",
    "TRAIN_DIR = SUMMARY_DIR + '/train'\n",
    "TEST_DIR = SUMMARY_DIR + '/test'\n",
    "\n",
    "if os.path.exists(SUMMARY_DIR):\n",
    "    shutil.rmtree(SUMMARY_DIR)\n",
    "if not os.path.exists(SUMMARY_DIR):\n",
    "    os.makedirs(SUMMARY_DIR)\n",
    "    os.makedirs(TRAIN_DIR)\n",
    "    os.makedirs(TEST_DIR)\n",
    "\n",
    "def get_next_batch(data, label, batch_size):\n",
    "    \"\"\"\n",
    "    get 'batch_size' amount of data and label randomly\n",
    "\n",
    "    Args:\n",
    "        data: data\n",
    "        label: label\n",
    "        batch_size: # of data to get\n",
    "\n",
    "    Returns:\n",
    "        batch_data: data of 'batch_size'\n",
    "        batch_label: coresponding label of batch_data\n",
    "    \"\"\"\n",
    "    n_data = data.shape[0]\n",
    "    random_idx = random.sample(range(1, n_data), batch_size)\n",
    "    \n",
    "    batch_data = data[random_idx]\n",
    "    batch_label = label[random_idx]\n",
    "    return batch_data, batch_label\n",
    "\n",
    "def get_one_hot(label):\n",
    "    \"\"\"\n",
    "    get one hot encoded label matrix\n",
    "\n",
    "    Args:\n",
    "        label: original label\n",
    "\n",
    "    Returns:\n",
    "        One hot encoded label matrix\n",
    "    \"\"\"\n",
    "    # Make 0 initialized numpy array with shape of [label.shape[0], 10]\n",
    "    one_hot = np.zeros((label.shape[0], 10))\n",
    "    # Fill up the array according to the input label\n",
    "    one_hot[np.arange(label.shape[0]), label.astype(int)] = 1\n",
    "    return one_hot"
   ]
  },
  {
   "cell_type": "markdown",
   "metadata": {},
   "source": [
    "# Implementation (1)\n",
    "\n",
    "\n",
    "## Loss function (손실 함수) : Cross Entropy\n",
    "\n",
    "# <center> \\\\( L(y_i, f(x_i; W)) = -\\frac{1}{n}\\sum_{i=1}^{n}\\sum_{k=1} y_{i,j} log(f(x_i)_k)\\\\)</center>"
   ]
  },
  {
   "cell_type": "code",
   "execution_count": null,
   "metadata": {
    "collapsed": true
   },
   "outputs": [],
   "source": [
    "def get_cross_entropy_loss(y_true, y_hat, epsilon=1e-8):\n",
    "    \"\"\"\n",
    "    compute cross entropy\n",
    "\n",
    "    Args:\n",
    "        y_true: true label\n",
    "        y_hat: predicted label\n",
    "        epsilon: small value to prevent NaN in log\n",
    "\n",
    "    Returns:\n",
    "        cross entropy loss\n",
    "    Hints\n",
    "        - tf.reduce_mean  \n",
    "        - tf.reduce_sum\n",
    "        - tf.log\n",
    "    \"\"\"\n",
    "    with tf.name_scope('cross_entropy'):\n",
    "        cross_entropy = \n",
    "    return cross_entropy\n",
    "\n",
    "def get_accuracy(y_true, y_hat):\n",
    "    \"\"\"\n",
    "    accuracy 구하기\n",
    "\n",
    "    Args:\n",
    "        y_true: true label\n",
    "        y_hat: predicted label\n",
    "    Returns:\n",
    "        Accuracy\n",
    "    Hints\n",
    "        - tf.equal : 값을 비교하여 동일하면 1, 다르면 0을 return\n",
    "        - tf.argmax : 값이 최대인 위치의 index를 return\n",
    "        - tf.cast : data type을 변경하는 함수\n",
    "        - tf.reduce_mean : 지정한 축(axis)에 대해 평균을 취하는 함수.\n",
    "    \"\"\"\n",
    "    with tf.name_scope('accuracy'):\n",
    "        # Compare the highest indices between the predicted label and the true label\n",
    "        correct_prediction = \n",
    "        # Compute accuracy\n",
    "        accuracy = \n",
    "    return accuracy"
   ]
  },
  {
   "cell_type": "markdown",
   "metadata": {},
   "source": [
    "## Hyper-parameter (하이퍼 파라미터)"
   ]
  },
  {
   "cell_type": "code",
   "execution_count": null,
   "metadata": {
    "collapsed": true
   },
   "outputs": [],
   "source": [
    "# Set hypyerparameters\n",
    "learning_rate = 0.01\n",
    "iteration = 2000\n",
    "step_size = iteration/10\n",
    "batch_size = 100"
   ]
  },
  {
   "cell_type": "markdown",
   "metadata": {},
   "source": [
    "# Implementation (2)\n",
    "## Linear Classifier (선형 분류기)\n",
    "\n",
    "## <center> \\\\( f(x) = xW+b \\\\)</center>\n"
   ]
  },
  {
   "cell_type": "code",
   "execution_count": null,
   "metadata": {
    "collapsed": true
   },
   "outputs": [],
   "source": [
    "def linear(inputs, out_dim, name):\n",
    "    \"\"\"\n",
    "    Args :\n",
    "        Inputs : Input tensor\n",
    "        out_dim : output dimension\n",
    "        name : name for parameter\n",
    "    Returns:\n",
    "        output\n",
    "    Hints\n",
    "        - tf.Variable  \n",
    "        - tf.matmul\n",
    "    \"\"\"\n",
    "    with tf.name_scope('linear_classifier'):\n",
    "        # Get dimension of inputs (not batch)\n",
    "        in_dim = \n",
    "        # initializer for weight matrix -> tf.zeros([])\n",
    "        W = \n",
    "        # initializer for bias vector -> tf.zeros([])\n",
    "        b = \n",
    "        # compute logits\n",
    "        y_logits =\n",
    "    return y_logits"
   ]
  },
  {
   "cell_type": "markdown",
   "metadata": {},
   "source": [
    "# 1. With Softmax Linear Classifier\n",
    "## <center> \\\\( f(x_i; W,b) =  \\sigma(xW+b) \\\\)</center>\n",
    "\n",
    "> where $\\sigma$ is softmax function, i.e.,\n",
    "\n",
    "## <center> \\\\( \\sigma(x)_i =  \\frac{e^{x_i}}{\\sum_j e^{x_j}}  \\\\)</center>"
   ]
  },
  {
   "cell_type": "code",
   "execution_count": null,
   "metadata": {},
   "outputs": [],
   "source": [
    "def model_1(x):\n",
    "    \"\"\"\n",
    "        Softmax Linear Classifier Model\n",
    "        \n",
    "        Args:\n",
    "            x : input\n",
    "            k : the number of classes, i.e., output dimension of the model\n",
    "        Returns:\n",
    "            output\n",
    "            weights list\n",
    "            bias list\n",
    "        Hints:\n",
    "            tf.nn.softmax : softmax function\n",
    "    \"\"\"\n",
    "    out = \n",
    "    out = \n",
    "    return out"
   ]
  },
  {
   "cell_type": "code",
   "execution_count": null,
   "metadata": {
    "collapsed": true
   },
   "outputs": [],
   "source": [
    "tf.reset_default_graph()\n",
    "train_label_hot = get_one_hot(train_label)\n",
    "test_label_hot = get_one_hot(test_label)\n",
    "# ---------------------------------------------------------------------------------------------------------\n",
    "# 0) Data_flatten\n",
    "# 3차원 Tensor를 2차원 maxtrix로 reshape\n",
    "# Hint : np.reshape()\n",
    "# ---------------------------------------------------------------------------------------------------------\n",
    "train_data =\n",
    "test_data = \n",
    "\n",
    "# ---------------------------------------------------------------------------------------------------------\n",
    "# 1) Declare Placeholders\n",
    "# input, true_label을 위한 placeholder 선언\n",
    "# Hint : tf.placeholder, input과 ouput이 어떤 차원을 가져야할지 고민해봅시다.\n",
    "# ---------------------------------------------------------------------------------------------------------\n",
    "x = \n",
    "y_true =\n",
    "\n",
    "# ---------------------------------------------------------------------------------------------------------\n",
    "# 2) model declare\n",
    "# Prediction을 위해 기존의 정의한 model을 사용합니다.\n",
    "# ---------------------------------------------------------------------------------------------------------\n",
    "y_pred = \n",
    "\n",
    "# ---------------------------------------------------------------------------------------------------------\n",
    "# 3) obtain loss & accuracy\n",
    "# 앞서 정의한 function들을 통해 loss와 accuracy를 얻습니다.\n",
    "# ---------------------------------------------------------------------------------------------------------\n",
    "cross_entropy = \n",
    "accuracy = \n",
    "\n",
    "\n",
    "# ---------------------------------------------------------------------------------------------------------\n",
    "# 4) Optimizer\n",
    "# Parameter Update를 위한 Optimizer를 선언합니다. Learning rate는 learning_rate로 선언된 변수를 사용합니다.\n",
    "# Hint : tf.train.GradientDescentOptimizer\n",
    "# ---------------------------------------------------------------------------------------------------------\n",
    "train_step = tf.train.GradientDescentOptimizer(learning_rate).minimize(cross_entropy)\n",
    "\n",
    "# ---------------------------------------------------------------------------------------------------------\n",
    "# 7) Session \n",
    "# tensorflow의 연산을 수행하기 위해 session을 호출합니다.\n",
    "# 8) variable iniializer \n",
    "# tensorflow의 variable들을 초기화 하기 위해 initializer를 사용합니다.\n",
    "# Hint : tf.global_variables_initializer\n",
    "# 9) training \n",
    "# 학습에서 사용할 iteration 수는 위의 iteration을 사용합니다. Loss 및 accuracy를 check할 때 step_size를 사용합니다.\n",
    "# ---------------------------------------------------------------------------------------------------------\n",
    "with tf.Session() as sess:\n",
    "    sess.run(tf.global_variables_initializer())\n",
    "  \n",
    "    # Training\n",
    "    for step in range(max_iter):\n",
    "        # Get batch data and label\n",
    "        batch_x, batch_y = get_next_batch(train_data, train_label_hot, batch_size)\n",
    "        # train the network and calculate cross entropy\n",
    "        _, loss = sess.run([train_step, cross_entropy], feed_dict={x: batch_x, y_true: batch_y})\n",
    "        # calcualte accuracy\n",
    "        acc = sess.run(accuracy, feed_dict={x: test_data, y_true: test_label_hot})\n",
    "        # print loss (cross entropy) and accuracy at every 10th step\n",
    "        if (step + 1) % step_size == 0:\n",
    "            print(\"{}th iteration, loss: {:.4f}, test accuracy: {:.4f}\".format(step + 1, loss, acc))"
   ]
  },
  {
   "cell_type": "markdown",
   "metadata": {},
   "source": [
    "# Implementation (4)\n",
    "\n",
    "## Non-Linear Classifier & Multi-Layer Perceptron\n",
    "\n",
    "## <center> \\\\( f(x) = W^T_2\\sigma(W^T_1x+b_1)+b_2 \\\\)</center>\n",
    "\n",
    "### 위에서 완성한 linear function과 relu activation function을 활용하여, 1개의 hidden layer가 있는 MLP를 구현하세요."
   ]
  },
  {
   "cell_type": "code",
   "execution_count": null,
   "metadata": {
    "collapsed": true
   },
   "outputs": [],
   "source": [
    "def model_2(Inputs, hidden, out_dim):\n",
    "    \"\"\"\n",
    "        Neural Network with 1 Hidden layer.\n",
    "        Args:\n",
    "            x : input\n",
    "            k : the number of classes, i.e., output dimension of the model\n",
    "        Returns:\n",
    "            output\n",
    "            weights list\n",
    "            bias list\n",
    "        Hint:\n",
    "            tf.nn.relu : activation function\n",
    "            tf.nn.softmax : softmax function\n",
    "    \"\"\"\n",
    "    # First fully connected layer\n",
    "    h = \n",
    "    # add non-linearity (using tf.nn.relu(input))\n",
    "    h_relu =\n",
    "    # Second fully connected layer\n",
    "    y_logits = \n",
    "    out =\n",
    "    return out"
   ]
  },
  {
   "cell_type": "markdown",
   "metadata": {},
   "source": [
    "# Implementation (5)\n",
    "\n",
    "## Model Setting\n",
    "\n",
    "### 1. Training data 및 Test data의 각각의 image를 한 vector로 만들어서 train_data, test_data에 각각 저장하세요.\n",
    "#### Hint) 데이터 차원.\n",
    "### 2. Dataset로부터 받은 데이터(Image, label)를 담을 변수를 각각 x 및 y_true에 선언하고, DropOut을 위한 확률 값을 담을 변수를 keep_prob에 저장하세요.\n",
    "#### Hint) tf.placeholder\n",
    "### 3. Implementation (4)에서 구현한  Multilayer perceptron 함수와 softmax 함수를 통한 prediction 값을 y_hat에 저장하세요.\n",
    "#### Hint) tf.nn.softmax\n",
    "### 4. 3으로부터 얻은 결과를 통해 Implementation (1)에서 구현한 loss function을 통해 얻은 loss를 cross_entropy에 저장하세요."
   ]
  },
  {
   "cell_type": "code",
   "execution_count": null,
   "metadata": {
    "collapsed": true
   },
   "outputs": [],
   "source": [
    "tf.reset_default_graph()\n",
    "train_label_hot = get_one_hot(train_label)\n",
    "test_label_hot = get_one_hot(test_label)\n",
    "# ---------------------------------------------------------------------------------------------------------\n",
    "# 0) Data_flatten\n",
    "# 3차원 Tensor를 2차원 maxtrix로 reshape\n",
    "# Hint : np.reshape()\n",
    "# ---------------------------------------------------------------------------------------------------------\n",
    "train_data = \n",
    "test_data = \n",
    "\n",
    "# ---------------------------------------------------------------------------------------------------------\n",
    "# 1) Declare Placeholders\n",
    "# input, true_label을 위한 placeholder 선언\n",
    "# Hint : tf.placeholder, input과 ouput이 어떤 차원을 가져야할지 고민해봅시다.\n",
    "# ---------------------------------------------------------------------------------------------------------\n",
    "x = \n",
    "y_true = \n",
    "\n",
    "# ---------------------------------------------------------------------------------------------------------\n",
    "# 2) model declare\n",
    "# Prediction을 위해 기존의 정의한 model을 사용합니다.\n",
    "# ---------------------------------------------------------------------------------------------------------\n",
    "y_pred =\n",
    "\n",
    "# ---------------------------------------------------------------------------------------------------------\n",
    "# 3) obtain loss & accuracy\n",
    "# 앞서 정의한 function들을 통해 loss와 accuracy를 얻습니다.\n",
    "# ---------------------------------------------------------------------------------------------------------\n",
    "cross_entropy = \n",
    "accuracy = \n",
    "\n",
    "\n",
    "# ---------------------------------------------------------------------------------------------------------\n",
    "# 4) Optimizer\n",
    "# Parameter Update를 위한 Optimizer를 선언합니다. Learning rate는 learning_rate로 선언된 변수를 사용합니다.\n",
    "# Hint : tf.train.GradientDescentOptimizer\n",
    "# ---------------------------------------------------------------------------------------------------------\n",
    "train_step = tf.train.GradientDescentOptimizer(learning_rate).minimize(cross_entropy)\n",
    "\n",
    "# ---------------------------------------------------------------------------------------------------------\n",
    "# 7) Session \n",
    "# tensorflow의 연산을 수행하기 위해 session을 호출합니다.\n",
    "# 8) variable iniializer \n",
    "# tensorflow의 variable들을 초기화 하기 위해 initializer를 사용합니다.\n",
    "# Hint : tf.global_variables_initializer\n",
    "# 9) training \n",
    "# 학습에서 사용할 iteration 수는 위의 iteration을 사용합니다. Loss 및 accuracy를 check할 때 step_size를 사용합니다.\n",
    "# ---------------------------------------------------------------------------------------------------------\n",
    "with tf.Session() as sess:\n",
    "    sess.run(tf.global_variables_initializer())\n",
    "  \n",
    "    # Training\n",
    "    for step in range(max_iter):\n",
    "        # Get batch data and label\n",
    "        batch_x, batch_y = get_next_batch(train_data, train_label_hot, batch_size)\n",
    "        # train the network and calculate cross entropy\n",
    "        _, loss = sess.run([train_step, cross_entropy], feed_dict={x: batch_x, y_true: batch_y})\n",
    "        # calcualte accuracy\n",
    "        acc = sess.run(accuracy, feed_dict={x: test_data, y_true: test_label_hot})\n",
    "        # print loss (cross entropy) and accuracy at every 10th step\n",
    "        if (step + 1) % step_size == 0:\n",
    "            print(\"{}th iteration, loss: {:.4f}, test accuracy: {:.4f}\".format(step + 1, loss, acc))"
   ]
  }
 ],
 "metadata": {
  "kernelspec": {
   "display_name": "Python 2",
   "language": "python",
   "name": "python2"
  },
  "language_info": {
   "codemirror_mode": {
    "name": "ipython",
    "version": 2
   },
   "file_extension": ".py",
   "mimetype": "text/x-python",
   "name": "python",
   "nbconvert_exporter": "python",
   "pygments_lexer": "ipython2",
   "version": "2.7.15"
  }
 },
 "nbformat": 4,
 "nbformat_minor": 2
}
