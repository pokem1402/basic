{
 "cells": [
  {
   "cell_type": "markdown",
   "metadata": {},
   "source": [
    "# Linear Regression with Ridge Regularization\n",
    "##### <div style='text-align:right'>made by Wonbin Kim</div>"
   ]
  },
  {
   "cell_type": "code",
   "execution_count": null,
   "metadata": {},
   "outputs": [],
   "source": [
    "import numpy as np\n",
    "from example import plotting, example3, example4\n",
    "%matplotlib inline"
   ]
  },
  {
   "cell_type": "markdown",
   "metadata": {},
   "source": [
    "# Dataset 3. More Complex Toy data"
   ]
  },
  {
   "cell_type": "markdown",
   "metadata": {},
   "source": [
    "# 2. Ridge Regression\n",
    "\n",
    "### <center>\\\\(\\mathcal{J}_{Ridge}(\\mathbf{w})= \\frac{1}{2N}||y-\\phi^T\\mathbf{w}||^2_2+\\frac{\\lambda}{2}||\\mathbf{w}||^2_2\\\\)</center>\n",
    "<img src='image/pic10.png'>"
   ]
  },
  {
   "cell_type": "markdown",
   "metadata": {},
   "source": [
    "### Find <center> \\\\( \\hat{\\mathbf{w}}_{Ridge} = \\arg \\min\\limits_{\\mathbf{W}} \\frac{1}{2}||y-\\phi^T\\mathbf{w}||^2_2+\\frac{\\lambda_N}{2}||\\mathbf{w}||^2_2\\\\) </center>\n",
    "\n",
    "where $\\lambda$ is trade off parameter(between LS and Regularizer), $\\phi(x) \\in \\mathbb{R}^{d\\times N}$ , $y \\in \\mathbb{R}^{k \\times N}$, and $\\mathbf{w} \\in \\mathbb{R}^{k\\times d}$. N, d, k denote the number of instances, the dimensionality of covariate X, and the dimentionality of response Y, respectively.\n",
    "\n",
    "### Caution!\n",
    "\n",
    "For implementational simplicity, X is transposed in practice. i.e. $ x \\in \\mathbb{R}^{N\\times D}$, a row represents a instance."
   ]
  },
  {
   "cell_type": "code",
   "execution_count": null,
   "metadata": {},
   "outputs": [],
   "source": [
    "# Objective function\n",
    "def ls(x, y, w, b = 0., l=1.):\n",
    "    ###\n",
    "    pass\n",
    "    ###\n",
    "    return loss"
   ]
  },
  {
   "cell_type": "markdown",
   "metadata": {},
   "source": [
    "### 구현 2. w를 구하는 numpy code 구성하고, y의 prediction 값 구하기\n",
    "\n",
    "## <center>\\\\(\\mathbf{w}_{ML} = \\left(\\Phi^T\\Phi+\\lambda I\\right)^{-1}\\Phi^T\\mathbf{t}\\\\)</center>\n",
    "\n",
    "> 이 때 $\\Phi$는 Design matrix로 다음과 같다. \\begin{equation} \n",
    "    \\Phi =\n",
    "        \\left(\n",
    "            \\begin{matrix}\n",
    "                \\phi_0(x_1) & \\phi_1(x_1) & \\cdots & \\phi_{M-1}(x_1)\\\\\n",
    "                \\phi_0(x_2) & \\phi_1(x_2) & \\cdots & \\phi_{M-1}(x_1)\\\\\n",
    "                \\vdots & \\vdots & \\ddots & \\vdots \\\\\n",
    "                \\phi_0(x_N) & \\phi_x(x_N) & \\cdots & \\phi_{M-1}(x_N)\n",
    "            \\end{matrix}\n",
    "        \\right)\n",
    "\\end{equation}\n",
    "\n",
    "Hint : np.dot, np.linalg.pinv, np.transpose, np.eye"
   ]
  },
  {
   "cell_type": "code",
   "execution_count": null,
   "metadata": {},
   "outputs": [],
   "source": [
    "def find_w(x, y, l = 1.):\n",
    "    ###\n",
    "    pass\n",
    "    ###\n",
    "    return w_ls"
   ]
  },
  {
   "cell_type": "code",
   "execution_count": null,
   "metadata": {},
   "outputs": [],
   "source": [
    "l = 5. # hyper-parameter"
   ]
  },
  {
   "cell_type": "markdown",
   "metadata": {},
   "source": [
    "## (2) Polynomial basis function with Numpy\n",
    "\n",
    "### <center> \\\\( \\phi_j(x) = x^j\\\\) </center>"
   ]
  },
  {
   "cell_type": "markdown",
   "metadata": {},
   "source": [
    "### <center>\\\\(\\phi(x) = [x^m, x^{m-1}, ... , x^1, 1]\\\\)</center>"
   ]
  },
  {
   "cell_type": "code",
   "execution_count": null,
   "metadata": {},
   "outputs": [],
   "source": [
    "def powers(X, degree=1):\n",
    "    ###\n",
    "    pass\n",
    "    ###\n",
    "    return new_X"
   ]
  },
  {
   "cell_type": "code",
   "execution_count": null,
   "metadata": {},
   "outputs": [],
   "source": [
    "train_X, train_Y, test_X, test_Y, whole_X, whole_Y = example3(False)"
   ]
  },
  {
   "cell_type": "markdown",
   "metadata": {},
   "source": [
    "## By sklearn"
   ]
  },
  {
   "cell_type": "code",
   "execution_count": null,
   "metadata": {},
   "outputs": [],
   "source": [
    "new_train_X = powers(train_X, 4)\n",
    "new_test_X = powers(test_X, 4)\n",
    "new_whole_X = powers(whole_X, 4)\n",
    "from sklearn import linear_model\n",
    "rid = linear_model.Ridge(alpha=l)\n",
    "rid.fit(new_train_X, train_Y)\n",
    "pred_y = rid.predict(new_whole_X)\n",
    "w_ls = rid.coef_\n",
    "b_ls = rid.intercept_\n",
    "print(ls(new_train_X, train_Y, w_ls.T, b_ls))\n",
    "print(ls(new_test_X, test_Y, w_ls.T, b_ls))\n",
    "plotting([train_X, test_X, whole_X],\n",
    "         [train_Y, test_Y, pred_y], label=['train', 'test', '4-polynomial'])"
   ]
  },
  {
   "cell_type": "markdown",
   "metadata": {},
   "source": [
    "### Comparing experiments"
   ]
  },
  {
   "cell_type": "code",
   "execution_count": null,
   "metadata": {},
   "outputs": [],
   "source": [
    "def compare(train_x, train_y, test_x, test_y, whole_x, lamb, degree = 4, ):\n",
    "    exp = []\n",
    "    for i in range(1, degree+1, 1):\n",
    "        t_X_i = powers(train_x, i)\n",
    "        te_X_i = powers(test_x, i)\n",
    "        w_X_i = powers(whole_x, i)\n",
    "        w_ls = find_w(t_X_i, train_y, l=lamb)\n",
    "        pred_y = np.dot(w_X_i, w_ls)\n",
    "        train_loss = ls(t_X_i, train_y, w_ls,l=lamb)\n",
    "        test_loss = ls(te_X_i, test_y, w_ls,l=lamb)\n",
    "        exp.append({'pred_y':pred_y,\n",
    "                    'whole':w_X_i, \n",
    "                    'train_loss':train_loss,\n",
    "                    'test_loss':test_loss})\n",
    "    for i in range(degree):\n",
    "        print(\"Degree : [{}], train loss : [{:.3f}], test_loss : [{:.3f}]\".format(i+1,\n",
    "            exp[i]['train_loss'], exp[i]['test_loss']))    \n",
    "    plotting([train_x, test_x]+ degree*[whole_x],\n",
    "         [train_y, test_y]+[exp[i]['pred_y'] for i in range(degree)],\n",
    "         label=['train', 'test','linear']+['{}-polynomial'.format(i+2) for i in range(degree-1)])"
   ]
  },
  {
   "cell_type": "code",
   "execution_count": null,
   "metadata": {
    "scrolled": false
   },
   "outputs": [],
   "source": [
    "train_X, train_Y, test_X, test_Y, whole_X, whole_Y = example3(False)\n",
    "for i in range(12):\n",
    "    compare(train_X, train_Y, test_X, test_Y, whole_X, 10**(i-5),7)"
   ]
  },
  {
   "cell_type": "code",
   "execution_count": null,
   "metadata": {
    "scrolled": false
   },
   "outputs": [],
   "source": [
    "train_X, train_Y, test_X, test_Y, whole_X, whole_Y = example4(False)\n",
    "for i in range(10):\n",
    "    compare(train_X, train_Y, test_X, test_Y, whole_X, 10**(i-5),6)"
   ]
  }
 ],
 "metadata": {
  "kernelspec": {
   "display_name": "Python 3",
   "language": "python",
   "name": "python3"
  },
  "language_info": {
   "codemirror_mode": {
    "name": "ipython",
    "version": 3
   },
   "file_extension": ".py",
   "mimetype": "text/x-python",
   "name": "python",
   "nbconvert_exporter": "python",
   "pygments_lexer": "ipython3",
   "version": "3.6.6"
  }
 },
 "nbformat": 4,
 "nbformat_minor": 2
}
