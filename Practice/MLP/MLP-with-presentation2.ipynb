{
 "cells": [
  {
   "cell_type": "code",
   "execution_count": null,
   "metadata": {},
   "outputs": [],
   "source": [
    "import tensorflow as tf\n",
    "import numpy as np\n",
    "import matplotlib.pyplot as plt\n",
    "%matplotlib inline"
   ]
  },
  {
   "cell_type": "markdown",
   "metadata": {},
   "source": [
    "# Weight Initialization"
   ]
  },
  {
   "cell_type": "markdown",
   "metadata": {},
   "source": [
    "## (1) Initialized By Zeros"
   ]
  },
  {
   "cell_type": "markdown",
   "metadata": {},
   "source": [
    "> Make a Neural Network described presentation with zero initialization."
   ]
  },
  {
   "cell_type": "code",
   "execution_count": null,
   "metadata": {},
   "outputs": [],
   "source": [
    "tf.reset_default_graph()\n",
    "\n",
    "##\n",
    "x = \n",
    "y = \n",
    "\n",
    "w1 = \n",
    "b1 = \n",
    "\n",
    "w2 = \n",
    "b2 = \n",
    "\n",
    "y_pred = \n",
    "##\n",
    "\n",
    "loss = tf.reduce_mean(tf.square(y-y_pred))\n",
    "\n",
    "opt = tf.train.GradientDescentOptimizer(1e-4).minimize(loss)\n",
    "\n",
    "with tf.Session() as sess:\n",
    "    sess.run(tf.global_variables_initializer())\n",
    "    sess.run(opt, feed_dict={x:np.array([[1.,2.,3.]]), y:np.array([[1.,1.]])})\n",
    "    sess.run(opt, feed_dict={x:np.array([[1.,2.,3.]]), y:np.array([[2.,1.]])})\n",
    "    print(sess.run(w2))"
   ]
  },
  {
   "cell_type": "markdown",
   "metadata": {},
   "source": [
    "## (2) Initialized By random value"
   ]
  },
  {
   "cell_type": "markdown",
   "metadata": {},
   "source": [
    "> Make a Neural Network described presentation with w1 initialized by random value and w2 intialized by zero."
   ]
  },
  {
   "cell_type": "code",
   "execution_count": null,
   "metadata": {},
   "outputs": [],
   "source": [
    "tf.reset_default_graph()\n",
    "\n",
    "##\n",
    "x = \n",
    "y = \n",
    "\n",
    "w1 = \n",
    "b1 = \n",
    "\n",
    "w2 = \n",
    "b2 = \n",
    "\n",
    "y_pred = \n",
    "##\n",
    "\n",
    "loss = tf.reduce_mean(tf.square(y-y_pred))\n",
    "\n",
    "opt = tf.train.GradientDescentOptimizer(1e-4).minimize(loss)\n",
    "\n",
    "with tf.Session() as sess:\n",
    "    sess.run(tf.global_variables_initializer())\n",
    "    sess.run(opt, feed_dict={x:np.array([[1.,2.,3.]]), y:np.array([[1.,1.]])})\n",
    "    print(sess.run(w2))    \n",
    "    sess.run(opt, feed_dict={x:np.array([[1.,2.,3.]]), y:np.array([[2.,1.]])})\n",
    "    print(sess.run(w2))"
   ]
  },
  {
   "cell_type": "markdown",
   "metadata": {},
   "source": [
    "> Make a Neural Network described presentation with random initialization."
   ]
  },
  {
   "cell_type": "code",
   "execution_count": null,
   "metadata": {},
   "outputs": [],
   "source": [
    "tf.reset_default_graph()\n",
    "\n",
    "##\n",
    "x = \n",
    "y = \n",
    "\n",
    "w1 = \n",
    "b1 = \n",
    "\n",
    "w2 = \n",
    "b2 = \n",
    "\n",
    "y_pred = \n",
    "##\n",
    "\n",
    "loss = tf.reduce_mean(tf.square(y-y_pred))\n",
    "\n",
    "opt = tf.train.GradientDescentOptimizer(1e-4).minimize(loss)\n",
    "\n",
    "with tf.Session() as sess:\n",
    "    sess.run(tf.global_variables_initializer())\n",
    "    sess.run(opt, feed_dict={x:np.array([[1.,2.,3.]]), y:np.array([[1.,1.]])})\n",
    "    print(sess.run(w2))\n",
    "    sess.run(opt, feed_dict={x:np.array([[1.,2.,3.]]), y:np.array([[2.,1.]])})\n",
    "    print(sess.run(w2))"
   ]
  }
 ],
 "metadata": {
  "kernelspec": {
   "display_name": "Python 3",
   "language": "python",
   "name": "python3"
  },
  "language_info": {
   "codemirror_mode": {
    "name": "ipython",
    "version": 3
   },
   "file_extension": ".py",
   "mimetype": "text/x-python",
   "name": "python",
   "nbconvert_exporter": "python",
   "pygments_lexer": "ipython3",
   "version": "3.6.6"
  }
 },
 "nbformat": 4,
 "nbformat_minor": 2
}
